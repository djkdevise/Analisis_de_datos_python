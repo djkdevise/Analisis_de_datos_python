{
 "cells": [
  {
   "cell_type": "markdown",
   "id": "064ec556-c83b-49b6-97a0-6154d71f5a85",
   "metadata": {
    "tags": []
   },
   "source": [
    "\"\"\"\n",
    "SERVICIO NACIONAL DE APRENDIZAJE SENA\n",
    "Curso de Formacion Complementaria ANÁLISIS EXPLORATORIO DE DATOS EN PYTHON 16/06/2023\n",
    "Ficha: 2769316\n",
    "Aprendiz: JAMITH ALEXANDER GARCIA ARRIETA\n",
    "Evidencia AA3-EV01: Dscripción del funcionamiento de la herramienta Python para la manipulación y visualización de la información.\n",
    "\"\"\""
   ]
  },
  {
   "cell_type": "markdown",
   "id": "1141fda6-4f1f-46d6-a5d5-2cbb8daf5c38",
   "metadata": {},
   "source": [
    "# Informe en el que se identifiquen las variables y los componentes estadísticos a partir de una situación planteada. AA3-EV02."
   ]
  },
  {
   "cell_type": "markdown",
   "id": "ffeb14b0-8416-4406-8504-dd1f95769dad",
   "metadata": {},
   "source": [
    "- Importe las librerías Pandas"
   ]
  },
  {
   "cell_type": "code",
   "execution_count": 2,
   "id": "9efe4e39-6f51-4aa7-bf8a-d18df8b160a1",
   "metadata": {},
   "outputs": [],
   "source": [
    "#Para importar la librería Pandas que servirá para la lectura del archivo CSV, ejecute el siguiente comando\n",
    "\n",
    "import pandas as pd"
   ]
  },
  {
   "cell_type": "markdown",
   "id": "c474ab1f-7d0c-4e4c-88ad-3388e583aa71",
   "metadata": {},
   "source": [
    "- Lectura de datos"
   ]
  },
  {
   "cell_type": "code",
   "execution_count": 11,
   "id": "c8ea8fa3-d373-473e-b3f3-a9b3b5db253d",
   "metadata": {},
   "outputs": [],
   "source": [
    "#Se procede con la lectura de los datos que ya se encuentran en el archivo, los cuales deben ser asignados a la variable df\n",
    "#El nombre de la variable será df, que hace referencia a un dataframe\n",
    "\n",
    "df = pd.read_csv('DatosSeguros.csv')"
   ]
  },
  {
   "cell_type": "markdown",
   "id": "2d0828c1-f665-4b70-9d3e-6cdcfac6f847",
   "metadata": {},
   "source": [
    "# Identificación de los datos"
   ]
  },
  {
   "cell_type": "code",
   "execution_count": 12,
   "id": "83ef6df4-19af-479e-9ea3-e5d35c280f9d",
   "metadata": {},
   "outputs": [
    {
     "name": "stdout",
     "output_type": "stream",
     "text": [
      "<class 'pandas.core.frame.DataFrame'>\n",
      "RangeIndex: 1349 entries, 0 to 1348\n",
      "Data columns (total 7 columns):\n",
      " #   Column        Non-Null Count  Dtype  \n",
      "---  ------        --------------  -----  \n",
      " 0   edad          1349 non-null   int64  \n",
      " 1   sexo          1349 non-null   object \n",
      " 2   imc           1347 non-null   float64\n",
      " 3   hijos         1349 non-null   int64  \n",
      " 4   fumador       1347 non-null   object \n",
      " 5   region        1349 non-null   object \n",
      " 6   valor_seguro  1349 non-null   float64\n",
      "dtypes: float64(2), int64(2), object(3)\n",
      "memory usage: 73.9+ KB\n"
     ]
    }
   ],
   "source": [
    "#Se aplica el siguiente comando para obtener información de los datos\n",
    "\n",
    "df.info()"
   ]
  },
  {
   "cell_type": "markdown",
   "id": "dc18269a-1b7b-4443-ac3a-63e2f266126e",
   "metadata": {
    "tags": []
   },
   "source": [
    "# Manipulando los datos"
   ]
  },
  {
   "cell_type": "code",
   "execution_count": null,
   "id": "10479bb7-ceff-4989-939e-e44df735a89f",
   "metadata": {},
   "outputs": [],
   "source": [
    "#los datos que el resultado para las columnas imc y fumador es de 1347, mientras que para las demás columnas es de 1349. \n",
    "#Esto indica que existen valores vacíos para esas dos variables."
   ]
  },
  {
   "cell_type": "markdown",
   "id": "cc261516-9c7e-4253-abf0-4b335199583a",
   "metadata": {},
   "source": [
    "- Detectar los valores vac{ios o nulos"
   ]
  },
  {
   "cell_type": "code",
   "execution_count": 13,
   "id": "e284158b-b3a2-4101-bde8-883874c0dc42",
   "metadata": {},
   "outputs": [
    {
     "data": {
      "text/plain": [
       "edad            0\n",
       "sexo            0\n",
       "imc             2\n",
       "hijos           0\n",
       "fumador         2\n",
       "region          0\n",
       "valor_seguro    0\n",
       "dtype: int64"
      ]
     },
     "execution_count": 13,
     "metadata": {},
     "output_type": "execute_result"
    }
   ],
   "source": [
    "#Se aplica a los datos almacenados en df el comando isnull sum con la siguiente sintaxis: Comando: df.isnull().sum()\n",
    "\n",
    "df.isnull().sum()"
   ]
  },
  {
   "cell_type": "markdown",
   "id": "ecbf0cc8-800d-4922-81a3-25c502f7c400",
   "metadata": {},
   "source": [
    "- Eliminar valores nulos"
   ]
  },
  {
   "cell_type": "code",
   "execution_count": 14,
   "id": "4cb4fe72-759d-45a9-99a2-23def30933a3",
   "metadata": {},
   "outputs": [],
   "source": [
    "#Para eliminar los valores nulos en la coleccion de datos usamos el siguiente comando df = df.dropna()\n",
    "\n",
    "df=df.dropna()"
   ]
  },
  {
   "cell_type": "code",
   "execution_count": 15,
   "id": "8e4e564a-fea1-4cad-8b9b-732586af9858",
   "metadata": {},
   "outputs": [
    {
     "name": "stdout",
     "output_type": "stream",
     "text": [
      "<class 'pandas.core.frame.DataFrame'>\n",
      "Int64Index: 1345 entries, 0 to 1348\n",
      "Data columns (total 7 columns):\n",
      " #   Column        Non-Null Count  Dtype  \n",
      "---  ------        --------------  -----  \n",
      " 0   edad          1345 non-null   int64  \n",
      " 1   sexo          1345 non-null   object \n",
      " 2   imc           1345 non-null   float64\n",
      " 3   hijos         1345 non-null   int64  \n",
      " 4   fumador       1345 non-null   object \n",
      " 5   region        1345 non-null   object \n",
      " 6   valor_seguro  1345 non-null   float64\n",
      "dtypes: float64(2), int64(2), object(3)\n",
      "memory usage: 84.1+ KB\n"
     ]
    }
   ],
   "source": [
    "#Se aplica el siguiente comando para verificar información de los datos\n",
    "\n",
    "df.info()"
   ]
  },
  {
   "cell_type": "markdown",
   "id": "d73e1cf3-8ac2-442c-abe3-2a84d774146a",
   "metadata": {},
   "source": [
    "- Eliminar datos duplicados"
   ]
  },
  {
   "cell_type": "code",
   "execution_count": 16,
   "id": "fa4dc3f6-bd3b-4b18-8174-db4b5452efb5",
   "metadata": {},
   "outputs": [],
   "source": [
    "#Para eliminar datos duplicados aplicamos el siguiente comando sobre el df con la información Comando: df=df.drop_duplicates()\n",
    "\n",
    "df=df.drop_duplicates()"
   ]
  },
  {
   "cell_type": "code",
   "execution_count": 17,
   "id": "df157785-bf56-4eea-85eb-0408e5d8a207",
   "metadata": {},
   "outputs": [
    {
     "name": "stdout",
     "output_type": "stream",
     "text": [
      "<class 'pandas.core.frame.DataFrame'>\n",
      "Int64Index: 1333 entries, 0 to 1347\n",
      "Data columns (total 7 columns):\n",
      " #   Column        Non-Null Count  Dtype  \n",
      "---  ------        --------------  -----  \n",
      " 0   edad          1333 non-null   int64  \n",
      " 1   sexo          1333 non-null   object \n",
      " 2   imc           1333 non-null   float64\n",
      " 3   hijos         1333 non-null   int64  \n",
      " 4   fumador       1333 non-null   object \n",
      " 5   region        1333 non-null   object \n",
      " 6   valor_seguro  1333 non-null   float64\n",
      "dtypes: float64(2), int64(2), object(3)\n",
      "memory usage: 83.3+ KB\n"
     ]
    }
   ],
   "source": [
    "#Se aplica el siguiente comando para verificar información de los datos\n",
    "\n",
    "df.info()"
   ]
  },
  {
   "cell_type": "markdown",
   "id": "8ad13824-658b-4a7f-aee6-a0035dd8d9f1",
   "metadata": {},
   "source": [
    "# Ordenamiento de los datos"
   ]
  },
  {
   "cell_type": "markdown",
   "id": "c7668529-d72d-414d-8d37-2364498da870",
   "metadata": {},
   "source": [
    "- Ordenar datos por el campo edad de Mayor a Menor"
   ]
  },
  {
   "cell_type": "code",
   "execution_count": 21,
   "id": "292b9e1d-9599-4357-b305-3445f62c2f0c",
   "metadata": {},
   "outputs": [
    {
     "data": {
      "text/html": [
       "<div>\n",
       "<style scoped>\n",
       "    .dataframe tbody tr th:only-of-type {\n",
       "        vertical-align: middle;\n",
       "    }\n",
       "\n",
       "    .dataframe tbody tr th {\n",
       "        vertical-align: top;\n",
       "    }\n",
       "\n",
       "    .dataframe thead th {\n",
       "        text-align: right;\n",
       "    }\n",
       "</style>\n",
       "<table border=\"1\" class=\"dataframe\">\n",
       "  <thead>\n",
       "    <tr style=\"text-align: right;\">\n",
       "      <th></th>\n",
       "      <th>edad</th>\n",
       "      <th>sexo</th>\n",
       "      <th>imc</th>\n",
       "      <th>hijos</th>\n",
       "      <th>fumador</th>\n",
       "      <th>region</th>\n",
       "      <th>valor_seguro</th>\n",
       "    </tr>\n",
       "  </thead>\n",
       "  <tbody>\n",
       "    <tr>\n",
       "      <th>1097</th>\n",
       "      <td>18</td>\n",
       "      <td>F</td>\n",
       "      <td>31.350</td>\n",
       "      <td>4</td>\n",
       "      <td>no</td>\n",
       "      <td>Boyaca</td>\n",
       "      <td>4561.18850</td>\n",
       "    </tr>\n",
       "    <tr>\n",
       "      <th>59</th>\n",
       "      <td>18</td>\n",
       "      <td>M</td>\n",
       "      <td>31.680</td>\n",
       "      <td>2</td>\n",
       "      <td>yes</td>\n",
       "      <td>Cundinamarca</td>\n",
       "      <td>34303.16720</td>\n",
       "    </tr>\n",
       "    <tr>\n",
       "      <th>1251</th>\n",
       "      <td>18</td>\n",
       "      <td>M</td>\n",
       "      <td>33.330</td>\n",
       "      <td>0</td>\n",
       "      <td>no</td>\n",
       "      <td>Cundinamarca</td>\n",
       "      <td>1135.94070</td>\n",
       "    </tr>\n",
       "    <tr>\n",
       "      <th>297</th>\n",
       "      <td>18</td>\n",
       "      <td>M</td>\n",
       "      <td>22.990</td>\n",
       "      <td>0</td>\n",
       "      <td>no</td>\n",
       "      <td>Boyaca</td>\n",
       "      <td>1704.56810</td>\n",
       "    </tr>\n",
       "    <tr>\n",
       "      <th>1255</th>\n",
       "      <td>18</td>\n",
       "      <td>F</td>\n",
       "      <td>39.820</td>\n",
       "      <td>0</td>\n",
       "      <td>no</td>\n",
       "      <td>Cundinamarca</td>\n",
       "      <td>1633.96180</td>\n",
       "    </tr>\n",
       "    <tr>\n",
       "      <th>944</th>\n",
       "      <td>18</td>\n",
       "      <td>F</td>\n",
       "      <td>40.185</td>\n",
       "      <td>0</td>\n",
       "      <td>no</td>\n",
       "      <td>Boyaca</td>\n",
       "      <td>2217.46915</td>\n",
       "    </tr>\n",
       "    <tr>\n",
       "      <th>1152</th>\n",
       "      <td>18</td>\n",
       "      <td>F</td>\n",
       "      <td>30.305</td>\n",
       "      <td>0</td>\n",
       "      <td>no</td>\n",
       "      <td>Boyaca</td>\n",
       "      <td>2203.73595</td>\n",
       "    </tr>\n",
       "    <tr>\n",
       "      <th>665</th>\n",
       "      <td>18</td>\n",
       "      <td>M</td>\n",
       "      <td>33.660</td>\n",
       "      <td>0</td>\n",
       "      <td>no</td>\n",
       "      <td>Cundinamarca</td>\n",
       "      <td>1136.39940</td>\n",
       "    </tr>\n",
       "    <tr>\n",
       "      <th>52</th>\n",
       "      <td>18</td>\n",
       "      <td>F</td>\n",
       "      <td>35.625</td>\n",
       "      <td>0</td>\n",
       "      <td>no</td>\n",
       "      <td>Boyaca</td>\n",
       "      <td>2211.13075</td>\n",
       "    </tr>\n",
       "    <tr>\n",
       "      <th>650</th>\n",
       "      <td>18</td>\n",
       "      <td>M</td>\n",
       "      <td>28.500</td>\n",
       "      <td>0</td>\n",
       "      <td>no</td>\n",
       "      <td>Boyaca</td>\n",
       "      <td>1712.22700</td>\n",
       "    </tr>\n",
       "  </tbody>\n",
       "</table>\n",
       "</div>"
      ],
      "text/plain": [
       "      edad sexo     imc  hijos fumador        region  valor_seguro\n",
       "1097    18    F  31.350      4      no        Boyaca    4561.18850\n",
       "59      18    M  31.680      2     yes  Cundinamarca   34303.16720\n",
       "1251    18    M  33.330      0      no  Cundinamarca    1135.94070\n",
       "297     18    M  22.990      0      no        Boyaca    1704.56810\n",
       "1255    18    F  39.820      0      no  Cundinamarca    1633.96180\n",
       "944     18    F  40.185      0      no        Boyaca    2217.46915\n",
       "1152    18    F  30.305      0      no        Boyaca    2203.73595\n",
       "665     18    M  33.660      0      no  Cundinamarca    1136.39940\n",
       "52      18    F  35.625      0      no        Boyaca    2211.13075\n",
       "650     18    M  28.500      0      no        Boyaca    1712.22700"
      ]
     },
     "execution_count": 21,
     "metadata": {},
     "output_type": "execute_result"
    }
   ],
   "source": [
    "#Para ordenar los datos por Edad de mayor a menor usamos el siguiente comando edad = df.sort_values('edad') adicional el comando edad.head(10) para indicar que solo traiga 10 registros\n",
    "\n",
    "edad=df.sort_values('edad')\n",
    "edad.head(10)"
   ]
  },
  {
   "cell_type": "markdown",
   "id": "4db85b3d-2d20-4622-83dc-f0684dc77b2a",
   "metadata": {},
   "source": [
    "- Ordenar datos por el campo edad de Menor a Mayor "
   ]
  },
  {
   "cell_type": "code",
   "execution_count": 22,
   "id": "84fd0916-dadc-4b28-9942-6825ba3de7de",
   "metadata": {},
   "outputs": [
    {
     "data": {
      "text/html": [
       "<div>\n",
       "<style scoped>\n",
       "    .dataframe tbody tr th:only-of-type {\n",
       "        vertical-align: middle;\n",
       "    }\n",
       "\n",
       "    .dataframe tbody tr th {\n",
       "        vertical-align: top;\n",
       "    }\n",
       "\n",
       "    .dataframe thead th {\n",
       "        text-align: right;\n",
       "    }\n",
       "</style>\n",
       "<table border=\"1\" class=\"dataframe\">\n",
       "  <thead>\n",
       "    <tr style=\"text-align: right;\">\n",
       "      <th></th>\n",
       "      <th>edad</th>\n",
       "      <th>sexo</th>\n",
       "      <th>imc</th>\n",
       "      <th>hijos</th>\n",
       "      <th>fumador</th>\n",
       "      <th>region</th>\n",
       "      <th>valor_seguro</th>\n",
       "    </tr>\n",
       "  </thead>\n",
       "  <tbody>\n",
       "    <tr>\n",
       "      <th>422</th>\n",
       "      <td>64</td>\n",
       "      <td>M</td>\n",
       "      <td>33.880</td>\n",
       "      <td>0</td>\n",
       "      <td>yes</td>\n",
       "      <td>Cundinamarca</td>\n",
       "      <td>46889.26120</td>\n",
       "    </tr>\n",
       "    <tr>\n",
       "      <th>754</th>\n",
       "      <td>64</td>\n",
       "      <td>M</td>\n",
       "      <td>37.905</td>\n",
       "      <td>0</td>\n",
       "      <td>no</td>\n",
       "      <td>Antioquia</td>\n",
       "      <td>14210.53595</td>\n",
       "    </tr>\n",
       "    <tr>\n",
       "      <th>404</th>\n",
       "      <td>64</td>\n",
       "      <td>F</td>\n",
       "      <td>32.965</td>\n",
       "      <td>0</td>\n",
       "      <td>no</td>\n",
       "      <td>Antioquia</td>\n",
       "      <td>14692.66935</td>\n",
       "    </tr>\n",
       "    <tr>\n",
       "      <th>420</th>\n",
       "      <td>64</td>\n",
       "      <td>M</td>\n",
       "      <td>39.160</td>\n",
       "      <td>1</td>\n",
       "      <td>no</td>\n",
       "      <td>Cundinamarca</td>\n",
       "      <td>14418.28040</td>\n",
       "    </tr>\n",
       "    <tr>\n",
       "      <th>380</th>\n",
       "      <td>64</td>\n",
       "      <td>F</td>\n",
       "      <td>30.115</td>\n",
       "      <td>3</td>\n",
       "      <td>no</td>\n",
       "      <td>Antioquia</td>\n",
       "      <td>16455.70785</td>\n",
       "    </tr>\n",
       "    <tr>\n",
       "      <th>1053</th>\n",
       "      <td>64</td>\n",
       "      <td>M</td>\n",
       "      <td>26.410</td>\n",
       "      <td>0</td>\n",
       "      <td>no</td>\n",
       "      <td>Boyaca</td>\n",
       "      <td>14394.55790</td>\n",
       "    </tr>\n",
       "    <tr>\n",
       "      <th>827</th>\n",
       "      <td>64</td>\n",
       "      <td>F</td>\n",
       "      <td>31.825</td>\n",
       "      <td>2</td>\n",
       "      <td>no</td>\n",
       "      <td>Boyaca</td>\n",
       "      <td>16069.08475</td>\n",
       "    </tr>\n",
       "    <tr>\n",
       "      <th>1248</th>\n",
       "      <td>64</td>\n",
       "      <td>M</td>\n",
       "      <td>36.960</td>\n",
       "      <td>2</td>\n",
       "      <td>yes</td>\n",
       "      <td>Cundinamarca</td>\n",
       "      <td>49577.66240</td>\n",
       "    </tr>\n",
       "    <tr>\n",
       "      <th>803</th>\n",
       "      <td>64</td>\n",
       "      <td>F</td>\n",
       "      <td>35.970</td>\n",
       "      <td>0</td>\n",
       "      <td>no</td>\n",
       "      <td>Cundinamarca</td>\n",
       "      <td>14313.84630</td>\n",
       "    </tr>\n",
       "    <tr>\n",
       "      <th>337</th>\n",
       "      <td>64</td>\n",
       "      <td>M</td>\n",
       "      <td>34.500</td>\n",
       "      <td>0</td>\n",
       "      <td>no</td>\n",
       "      <td>Caribe</td>\n",
       "      <td>13822.80300</td>\n",
       "    </tr>\n",
       "  </tbody>\n",
       "</table>\n",
       "</div>"
      ],
      "text/plain": [
       "      edad sexo     imc  hijos fumador        region  valor_seguro\n",
       "422     64    M  33.880      0     yes  Cundinamarca   46889.26120\n",
       "754     64    M  37.905      0      no     Antioquia   14210.53595\n",
       "404     64    F  32.965      0      no     Antioquia   14692.66935\n",
       "420     64    M  39.160      1      no  Cundinamarca   14418.28040\n",
       "380     64    F  30.115      3      no     Antioquia   16455.70785\n",
       "1053    64    M  26.410      0      no        Boyaca   14394.55790\n",
       "827     64    F  31.825      2      no        Boyaca   16069.08475\n",
       "1248    64    M  36.960      2     yes  Cundinamarca   49577.66240\n",
       "803     64    F  35.970      0      no  Cundinamarca   14313.84630\n",
       "337     64    M  34.500      0      no        Caribe   13822.80300"
      ]
     },
     "execution_count": 22,
     "metadata": {},
     "output_type": "execute_result"
    }
   ],
   "source": [
    "#Para ordenar los datos por Edad de mayor a menor usamos el siguiente comando edad = df.sort_values('edad',ascending=False) adicional el comando edad.head(10) para indicar que solo traiga 10 registros\n",
    "\n",
    "edad=df.sort_values('edad',ascending=False)\n",
    "edad.head(10)"
   ]
  },
  {
   "cell_type": "markdown",
   "id": "3ef0bea9-71db-498d-ad27-c933b58ca159",
   "metadata": {},
   "source": [
    "# Agrupamiento de datos"
   ]
  },
  {
   "cell_type": "code",
   "execution_count": 30,
   "id": "cc67419a-45eb-4818-855f-32f9b1313eec",
   "metadata": {},
   "outputs": [
    {
     "data": {
      "text/html": [
       "<div>\n",
       "<style scoped>\n",
       "    .dataframe tbody tr th:only-of-type {\n",
       "        vertical-align: middle;\n",
       "    }\n",
       "\n",
       "    .dataframe tbody tr th {\n",
       "        vertical-align: top;\n",
       "    }\n",
       "\n",
       "    .dataframe thead th {\n",
       "        text-align: right;\n",
       "    }\n",
       "</style>\n",
       "<table border=\"1\" class=\"dataframe\">\n",
       "  <thead>\n",
       "    <tr style=\"text-align: right;\">\n",
       "      <th></th>\n",
       "      <th>edad</th>\n",
       "      <th>sexo</th>\n",
       "      <th>imc</th>\n",
       "      <th>hijos</th>\n",
       "      <th>fumador</th>\n",
       "      <th>region</th>\n",
       "      <th>valor_seguro</th>\n",
       "      <th>Rango_Edad</th>\n",
       "    </tr>\n",
       "  </thead>\n",
       "  <tbody>\n",
       "    <tr>\n",
       "      <th>422</th>\n",
       "      <td>64</td>\n",
       "      <td>M</td>\n",
       "      <td>33.880</td>\n",
       "      <td>0</td>\n",
       "      <td>yes</td>\n",
       "      <td>Cundinamarca</td>\n",
       "      <td>46889.26120</td>\n",
       "      <td>E</td>\n",
       "    </tr>\n",
       "    <tr>\n",
       "      <th>754</th>\n",
       "      <td>64</td>\n",
       "      <td>M</td>\n",
       "      <td>37.905</td>\n",
       "      <td>0</td>\n",
       "      <td>no</td>\n",
       "      <td>Antioquia</td>\n",
       "      <td>14210.53595</td>\n",
       "      <td>E</td>\n",
       "    </tr>\n",
       "    <tr>\n",
       "      <th>404</th>\n",
       "      <td>64</td>\n",
       "      <td>F</td>\n",
       "      <td>32.965</td>\n",
       "      <td>0</td>\n",
       "      <td>no</td>\n",
       "      <td>Antioquia</td>\n",
       "      <td>14692.66935</td>\n",
       "      <td>E</td>\n",
       "    </tr>\n",
       "    <tr>\n",
       "      <th>420</th>\n",
       "      <td>64</td>\n",
       "      <td>M</td>\n",
       "      <td>39.160</td>\n",
       "      <td>1</td>\n",
       "      <td>no</td>\n",
       "      <td>Cundinamarca</td>\n",
       "      <td>14418.28040</td>\n",
       "      <td>E</td>\n",
       "    </tr>\n",
       "    <tr>\n",
       "      <th>380</th>\n",
       "      <td>64</td>\n",
       "      <td>F</td>\n",
       "      <td>30.115</td>\n",
       "      <td>3</td>\n",
       "      <td>no</td>\n",
       "      <td>Antioquia</td>\n",
       "      <td>16455.70785</td>\n",
       "      <td>E</td>\n",
       "    </tr>\n",
       "    <tr>\n",
       "      <th>1053</th>\n",
       "      <td>64</td>\n",
       "      <td>M</td>\n",
       "      <td>26.410</td>\n",
       "      <td>0</td>\n",
       "      <td>no</td>\n",
       "      <td>Boyaca</td>\n",
       "      <td>14394.55790</td>\n",
       "      <td>E</td>\n",
       "    </tr>\n",
       "    <tr>\n",
       "      <th>827</th>\n",
       "      <td>64</td>\n",
       "      <td>F</td>\n",
       "      <td>31.825</td>\n",
       "      <td>2</td>\n",
       "      <td>no</td>\n",
       "      <td>Boyaca</td>\n",
       "      <td>16069.08475</td>\n",
       "      <td>E</td>\n",
       "    </tr>\n",
       "    <tr>\n",
       "      <th>1248</th>\n",
       "      <td>64</td>\n",
       "      <td>M</td>\n",
       "      <td>36.960</td>\n",
       "      <td>2</td>\n",
       "      <td>yes</td>\n",
       "      <td>Cundinamarca</td>\n",
       "      <td>49577.66240</td>\n",
       "      <td>E</td>\n",
       "    </tr>\n",
       "    <tr>\n",
       "      <th>803</th>\n",
       "      <td>64</td>\n",
       "      <td>F</td>\n",
       "      <td>35.970</td>\n",
       "      <td>0</td>\n",
       "      <td>no</td>\n",
       "      <td>Cundinamarca</td>\n",
       "      <td>14313.84630</td>\n",
       "      <td>E</td>\n",
       "    </tr>\n",
       "    <tr>\n",
       "      <th>337</th>\n",
       "      <td>64</td>\n",
       "      <td>M</td>\n",
       "      <td>34.500</td>\n",
       "      <td>0</td>\n",
       "      <td>no</td>\n",
       "      <td>Caribe</td>\n",
       "      <td>13822.80300</td>\n",
       "      <td>E</td>\n",
       "    </tr>\n",
       "  </tbody>\n",
       "</table>\n",
       "</div>"
      ],
      "text/plain": [
       "      edad sexo     imc  hijos fumador        region  valor_seguro Rango_Edad\n",
       "422     64    M  33.880      0     yes  Cundinamarca   46889.26120          E\n",
       "754     64    M  37.905      0      no     Antioquia   14210.53595          E\n",
       "404     64    F  32.965      0      no     Antioquia   14692.66935          E\n",
       "420     64    M  39.160      1      no  Cundinamarca   14418.28040          E\n",
       "380     64    F  30.115      3      no     Antioquia   16455.70785          E\n",
       "1053    64    M  26.410      0      no        Boyaca   14394.55790          E\n",
       "827     64    F  31.825      2      no        Boyaca   16069.08475          E\n",
       "1248    64    M  36.960      2     yes  Cundinamarca   49577.66240          E\n",
       "803     64    F  35.970      0      no  Cundinamarca   14313.84630          E\n",
       "337     64    M  34.500      0      no        Caribe   13822.80300          E"
      ]
     },
     "execution_count": 30,
     "metadata": {},
     "output_type": "execute_result"
    }
   ],
   "source": [
    "#Creacion de Variables\n",
    "\n",
    "#1) Definir Rango de Edades\n",
    "rangos=[17,28,38,48,58,68]\n",
    "\n",
    "#2) Establecer el nombre para cada rango\n",
    "nombreRango=[\"A\",\"B\",\"C\",\"D\",\"E\"]\n",
    "\n",
    "#3) Se crea nueva columna con el nombre Rango_Edad donde almacenara le dato del rango de edad segun correponda \n",
    "\n",
    "df['Rango_Edad'] = pd.cut(df['edad'], rangos, labels=nombreRango)\n",
    "\n",
    "# Comprobamos que se ha creado una nueva columna\n",
    "df.info()\n"
   ]
  },
  {
   "cell_type": "code",
   "execution_count": null,
   "id": "5181bef3-548a-468e-a897-70cac8bab5d8",
   "metadata": {},
   "outputs": [],
   "source": []
  }
 ],
 "metadata": {
  "kernelspec": {
   "display_name": "Python 3 (ipykernel)",
   "language": "python",
   "name": "python3"
  },
  "language_info": {
   "codemirror_mode": {
    "name": "ipython",
    "version": 3
   },
   "file_extension": ".py",
   "mimetype": "text/x-python",
   "name": "python",
   "nbconvert_exporter": "python",
   "pygments_lexer": "ipython3",
   "version": "3.10.9"
  }
 },
 "nbformat": 4,
 "nbformat_minor": 5
}
