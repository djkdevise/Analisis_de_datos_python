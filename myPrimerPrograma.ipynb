{
 "cells": [
  {
   "cell_type": "markdown",
   "id": "7f4e7532-07df-42a0-b468-8ff90e01eb42",
   "metadata": {
    "tags": []
   },
   "source": [
    "\"\"\"\n",
    "SERVICIO NACIONAL DE APRENDIZAJE SENA\n",
    "Curso de Formacion Complementaria ANÁLISIS EXPLORATORIO DE DATOS EN PYTHON 16/06/2023\n",
    "Ficha: 2769316\n",
    "Aprendiz: JAMITH ALEXANDER GARCIA ARRIETA\n",
    "Evidencia AA3-EV01: Dscripción del funcionamiento de la herramienta Python para la manipulación y visualización de la información.\n",
    "\"\"\""
   ]
  },
  {
   "cell_type": "markdown",
   "id": "2a5ccf5a-e673-431e-bc4a-dc1b3dee452d",
   "metadata": {},
   "source": [
    "# Mi Primer Programa"
   ]
  },
  {
   "cell_type": "code",
   "execution_count": 27,
   "id": "1a25b247-cabe-438d-8625-6c8c31770c1d",
   "metadata": {
    "collapsed": true,
    "jupyter": {
     "outputs_hidden": true,
     "source_hidden": true
    },
    "tags": []
   },
   "outputs": [
    {
     "name": "stdout",
     "output_type": "stream",
     "text": [
      "Hola mundo\n"
     ]
    }
   ],
   "source": [
    "\n",
    "# My primer programa\n",
    "print (\"Hola mundo\")"
   ]
  },
  {
   "cell_type": "markdown",
   "id": "52f53111-1f17-4e48-a6a9-49b58e3e710b",
   "metadata": {
    "tags": []
   },
   "source": [
    "# Uso de varibales y operadores aritmeticos"
   ]
  },
  {
   "cell_type": "code",
   "execution_count": 28,
   "id": "affa7a45-f3a7-469f-b890-139152e4f877",
   "metadata": {
    "collapsed": true,
    "jupyter": {
     "outputs_hidden": true,
     "source_hidden": true
    },
    "tags": []
   },
   "outputs": [
    {
     "name": "stdout",
     "output_type": "stream",
     "text": [
      "#Operaciones artmeticas +, - , *, /\n",
      "Entradas: numero 1 = 10, numero 2 = 5\n",
      "La suma de 10+5 = 15\n",
      "La resta de 10-5 = 5\n",
      "La Multiplicación de 10*5 = 50\n",
      "La división de 10/5 = 2.0\n",
      "Fin del programa\n"
     ]
    }
   ],
   "source": [
    "#Variables\n",
    "num1=10\n",
    "num2=5\n",
    "resultado = 0\n",
    "\n",
    "#Operaciones artmeticas +, - , *, /\n",
    "\n",
    "#Adición\n",
    "resultado =num1+num2\n",
    "\n",
    "#Mostramos el resultado en pantalla\n",
    "print('#Operaciones artmeticas +, - , *, /')\n",
    "print('Entradas: numero 1 = ' + str(num1) + ', numero 2 = ' + str(num2)  )\n",
    "print('La suma de ' + str(num1) +'+'+ str(num2) +' = ' + str(resultado))\n",
    "\n",
    "#Sustraccion\n",
    "resultado =num1-num2\n",
    "\n",
    "#Mostramos el resultado en pantalla\n",
    "print('La resta de ' + str(num1) +'-'+ str(num2) +' = ' + str(resultado))\n",
    "\n",
    "#Multiplicación\n",
    "resultado =num1*num2\n",
    "\n",
    "#Mostramos el resultado en pantalla\n",
    "print('La Multiplicación de ' + str(num1) +'*'+ str(num2) +' = ' + str(resultado))\n",
    "\n",
    "#División\n",
    "resultado =num1/num2\n",
    "\n",
    "#Mostramos el resultado en pantalla\n",
    "print('La división de ' + str(num1) +'/'+ str(num2) +' = ' + str(resultado))\n",
    "\n",
    "print('Fin del programa')\n"
   ]
  },
  {
   "cell_type": "markdown",
   "id": "082af678-81ab-4c8e-bcdb-4f8d15d3053a",
   "metadata": {},
   "source": [
    "#  Librerías para el tratamiento y visualización de los datos numpy,  pandas, Matplotlib, Seaborn"
   ]
  },
  {
   "cell_type": "code",
   "execution_count": 35,
   "id": "cf13722f-4d1a-473c-901f-5d4285aaae2a",
   "metadata": {
    "jupyter": {
     "source_hidden": true
    },
    "tags": []
   },
   "outputs": [],
   "source": [
    "\"\"\"\n",
    "ejercicio: Calcular diferentes medidas fundamentales en estadística sobre un grupo de datos\n",
    "de calificaciones para 20 estudiantes del curso de \"Análisis Exploratorio de Datos en Python\"\n",
    "\"\"\"\n",
    "\n",
    "# Importar las bibliotecas necesarias\n",
    "import numpy as np\n",
    "import pandas as pd\n",
    "import matplotlib.pyplot as plt\n",
    "import seaborn as sns\n",
    "\n",
    "# Crear un diccionario de datos ficticios\n",
    "datos = {\n",
    "    'Estudiante': ['Estudiante 1', 'Estudiante 2', 'Estudiante 3', 'Estudiante 4', 'Estudiante 5',\n",
    "                   'Estudiante 6', 'Estudiante 7', 'Estudiante 8', 'Estudiante 9', 'Estudiante 10',\n",
    "                   'Estudiante 11', 'Estudiante 12', 'Estudiante 13', 'Estudiante 14', 'Estudiante 15',\n",
    "                   'Estudiante 16', 'Estudiante 17', 'Estudiante 18', 'Estudiante 19', 'Estudiante 20'],\n",
    "    'Calificaciones': [85, 90, 78, 92, 88, 95, 80, 87, 79, 83, 89, 91, 84, 88, 76, 93, 82, 86, 77, 90]\n",
    "}\n",
    "\n",
    "# Crear un DataFrame a partir del diccionario de datos\n",
    "df = pd.DataFrame(datos)\n"
   ]
  },
  {
   "cell_type": "markdown",
   "id": "06ce5b72-b39e-4cfc-84b1-b253aa181204",
   "metadata": {},
   "source": [
    "# Ejercicios con Librerías para el tratamiento de datos numpy y pandas"
   ]
  },
  {
   "cell_type": "markdown",
   "id": "6588cdfd-2a49-4a87-8cf1-b5f118030c0c",
   "metadata": {},
   "source": [
    "- Calcular la media utilizando pandas"
   ]
  },
  {
   "cell_type": "code",
   "execution_count": 29,
   "id": "1453d0b3-dd01-440e-bace-3bd84ead7329",
   "metadata": {
    "collapsed": true,
    "jupyter": {
     "outputs_hidden": true,
     "source_hidden": true
    },
    "tags": []
   },
   "outputs": [
    {
     "name": "stdout",
     "output_type": "stream",
     "text": [
      "Media\n"
     ]
    },
    {
     "data": {
      "text/plain": [
       "85.65"
      ]
     },
     "execution_count": 29,
     "metadata": {},
     "output_type": "execute_result"
    }
   ],
   "source": [
    "# Calcular la media utilizando pandas\n",
    "media = df['Calificaciones'].mean()\n",
    "\n",
    "# Mostrar la media\n",
    "print('Media')\n",
    "media\n"
   ]
  },
  {
   "cell_type": "markdown",
   "id": "3f1130e6-bd51-4ea6-b37b-429c9aaedda0",
   "metadata": {},
   "source": [
    "- Calcular la mediana utilizando NumPy"
   ]
  },
  {
   "cell_type": "code",
   "execution_count": 30,
   "id": "e7b97662-7021-4d9b-a76e-28a4689239d7",
   "metadata": {
    "collapsed": true,
    "jupyter": {
     "outputs_hidden": true,
     "source_hidden": true
    },
    "tags": []
   },
   "outputs": [
    {
     "data": {
      "text/plain": [
       "86.5"
      ]
     },
     "execution_count": 30,
     "metadata": {},
     "output_type": "execute_result"
    }
   ],
   "source": [
    "# Calcular la mediana utilizando NumPy\n",
    "mediana = np.median(df['Calificaciones'])\n",
    "\n",
    "# Mostrar la mediana\n",
    "mediana\n"
   ]
  },
  {
   "cell_type": "markdown",
   "id": "6a75ae47-0ae1-4011-b92a-e42e79324d5e",
   "metadata": {},
   "source": [
    "- Calcular la moda utilizando pandas"
   ]
  },
  {
   "cell_type": "code",
   "execution_count": 31,
   "id": "2ebb818c-f796-4fb3-9ea2-eaa603938200",
   "metadata": {
    "collapsed": true,
    "jupyter": {
     "outputs_hidden": true,
     "source_hidden": true
    },
    "tags": []
   },
   "outputs": [
    {
     "name": "stdout",
     "output_type": "stream",
     "text": [
      "Moda\n"
     ]
    },
    {
     "data": {
      "text/plain": [
       "88"
      ]
     },
     "execution_count": 31,
     "metadata": {},
     "output_type": "execute_result"
    }
   ],
   "source": [
    "# Calcular la moda\n",
    "moda = df['Calificaciones'].mode()[0]\n",
    "\n",
    "# Mostrar la moda\n",
    "print('Moda')\n",
    "moda\n"
   ]
  },
  {
   "cell_type": "markdown",
   "id": "0a665c7b-10fe-44df-bfec-4e2a2d4a1253",
   "metadata": {},
   "source": [
    "- Calcular la desviación estándar utilizando pandas"
   ]
  },
  {
   "cell_type": "code",
   "execution_count": 32,
   "id": "5122b5b9-8a0d-4018-8102-cb5ea78c6f9f",
   "metadata": {
    "collapsed": true,
    "jupyter": {
     "outputs_hidden": true,
     "source_hidden": true
    },
    "tags": []
   },
   "outputs": [
    {
     "name": "stdout",
     "output_type": "stream",
     "text": [
      "Dsviación estándar\n"
     ]
    },
    {
     "data": {
      "text/plain": [
       "5.612720514950603"
      ]
     },
     "execution_count": 32,
     "metadata": {},
     "output_type": "execute_result"
    }
   ],
   "source": [
    "# Calcular la desviación estándar utilizando pandas\n",
    "desviacion_estandar = df['Calificaciones'].std()\n",
    "\n",
    "# Mostrar la desviación estándar\n",
    "print('Dsviación estándar')\n",
    "desviacion_estandar"
   ]
  },
  {
   "cell_type": "markdown",
   "id": "2a1af4e7-f592-4ddc-b383-625fb1cf1807",
   "metadata": {},
   "source": [
    "- Calcular la varianza utilizando NumPy"
   ]
  },
  {
   "cell_type": "code",
   "execution_count": 33,
   "id": "cd1e0244-1298-4a8c-b899-dcd31fe357d3",
   "metadata": {
    "collapsed": true,
    "jupyter": {
     "outputs_hidden": true,
     "source_hidden": true
    },
    "tags": []
   },
   "outputs": [
    {
     "name": "stdout",
     "output_type": "stream",
     "text": [
      "Varianza\n"
     ]
    },
    {
     "data": {
      "text/plain": [
       "29.9275"
      ]
     },
     "execution_count": 33,
     "metadata": {},
     "output_type": "execute_result"
    }
   ],
   "source": [
    "# Calcular la varianza utilizando NumPy\n",
    "varianza = np.var(df['Calificaciones'])\n",
    "\n",
    "# Mostrar la varianza\n",
    "print('Varianza')\n",
    "varianza\n"
   ]
  },
  {
   "cell_type": "markdown",
   "id": "e2eb0604-74a1-4c63-8335-ac5eace99166",
   "metadata": {},
   "source": [
    "## Ejercicios con Librerías para visualización de los datos Matplotlib, Seaborn"
   ]
  },
  {
   "cell_type": "markdown",
   "id": "1e80475e-3243-4fc4-8755-f96e59912ff2",
   "metadata": {},
   "source": [
    "-  Crear un gráfico de barras para las calificaciones utilizando Matplotlib\n",
    "    Nota:Este gráfico de barras para las calificaciones representa visualmente la frecuencia de cada calificación mediante \n",
    "    barras rectangulares, lo que nos permite comparar las frecuencias y obtener una idea de la distribución de los datos.  "
   ]
  },
  {
   "cell_type": "code",
   "execution_count": 36,
   "id": "af3aa71f-8b00-4123-9284-9db509740672",
   "metadata": {
    "collapsed": true,
    "jupyter": {
     "outputs_hidden": true,
     "source_hidden": true
    },
    "tags": []
   },
   "outputs": [
    {
     "data": {
      "image/png": "[encoded data removed]",
      "text/plain": [
       "<Figure size 800x600 with 1 Axes>"
      ]
     },
     "metadata": {},
     "output_type": "display_data"
    }
   ],
   "source": [
    "# Crear un gráfico de barras para las calificaciones utilizando Matplotlib\n",
    "plt.figure(figsize=(8, 6))  # Establecer el tamaño del gráfico\n",
    "sns.countplot(x='Calificaciones', data=df)  # Crear el gráfico de barras\n",
    "plt.xlabel('Calificaciones')  # Etiqueta del eje x\n",
    "plt.ylabel('Frecuencia')  # Etiqueta del eje y\n",
    "plt.title('Distribución de Calificaciones')  # Título del gráfico\n",
    "plt.show()  # Mostrar el gráfico"
   ]
  },
  {
   "cell_type": "markdown",
   "id": "01966850-9043-457e-8c38-6b13122f16d8",
   "metadata": {},
   "source": [
    "- Crear un gráfico de caja y bigotes para las calificaciones utilizando Seaborn\n",
    "    Nota:  El gráfico muestra la distribución de las calificaciones a través de la caja (que representa el rango intercuartílico), la línea \n",
    "    central (que representa la mediana) y los bigotes (que indican el rango de valores no atípicos). Los puntos individuales más allá de los \n",
    "    bigotes representarían posibles valores atípicos en los datos de calificaciones."
   ]
  },
  {
   "cell_type": "code",
   "execution_count": 37,
   "id": "3f7cfacb-55b5-49d0-83f7-e27ecdeab0f3",
   "metadata": {
    "collapsed": true,
    "jupyter": {
     "outputs_hidden": true,
     "source_hidden": true
    },
    "tags": []
   },
   "outputs": [
    {
     "data": {
      "image/png": "[encoded data removed]",
      "text/plain": [
       "<Figure size 800x600 with 1 Axes>"
      ]
     },
     "metadata": {},
     "output_type": "display_data"
    }
   ],
   "source": [
    "# Crear un gráfico de caja y bigotes para las calificaciones utilizando Seaborn\n",
    "plt.figure(figsize=(8, 6))  # Establecer el tamaño del gráfico\n",
    "sns.boxplot(x='Calificaciones', data=df)  # Crear el gráfico de caja y bigotes\n",
    "plt.xlabel('Calificaciones')  # Etiqueta del eje x\n",
    "plt.ylabel('Calificación')  # Etiqueta del eje y\n",
    "plt.title('Distribución de Calificaciones')  # Título del gráfico\n",
    "plt.show()  # Mostrar el gráfico\n"
   ]
  },
  {
   "cell_type": "code",
   "execution_count": null,
   "id": "ec659d14-ac8f-44f5-ac7f-17628bb0bee5",
   "metadata": {},
   "outputs": [],
   "source": []
  }
 ],
 "metadata": {
  "kernelspec": {
   "display_name": "Python 3 (ipykernel)",
   "language": "python",
   "name": "python3"
  },
  "language_info": {
   "codemirror_mode": {
    "name": "ipython",
    "version": 3
   },
   "file_extension": ".py",
   "mimetype": "text/x-python",
   "name": "python",
   "nbconvert_exporter": "python",
   "pygments_lexer": "ipython3",
   "version": "3.10.9"
  }
 },
 "nbformat": 4,
 "nbformat_minor": 5
}
